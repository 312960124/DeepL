{
 "cells": [
  {
   "cell_type": "code",
   "execution_count": 131,
   "metadata": {},
   "outputs": [],
   "source": [
    "import pandas as pd\n",
    "import numpy as np\n",
    "import seaborn as sns\n",
    "from sklearn.metrics import accuracy_score,f1_score,precision_score,recall_score,confusion_matrix"
   ]
  },
  {
   "cell_type": "code",
   "execution_count": 2,
   "metadata": {},
   "outputs": [],
   "source": [
    "with open('data.txt', 'r') as f:\n",
    "    res = f.read()\n",
    "\n",
    "records = [list(map(str.strip, line.strip().split())) for line in res.split('\\n')]"
   ]
  },
  {
   "cell_type": "code",
   "execution_count": 4,
   "metadata": {},
   "outputs": [],
   "source": [
    "l = []\n",
    "for record in records:\n",
    "    d = {}\n",
    "    d['label'] = record[0]\n",
    "    for r in record[1:]:\n",
    "        key = r[0]\n",
    "        value = r[2:]\n",
    "        d[key] = value\n",
    "    l.append(d)"
   ]
  },
  {
   "cell_type": "code",
   "execution_count": 5,
   "metadata": {},
   "outputs": [
    {
     "name": "stdout",
     "output_type": "stream",
     "text": [
      "    label           1           2           3          4          5  \\\n",
      "0      -1   -0.294118    0.487437    0.180328  -0.292929         -1   \n",
      "1      +1   -0.882353   -0.145729   0.0819672  -0.414141         -1   \n",
      "2      -1  -0.0588235    0.839196   0.0491803         -1         -1   \n",
      "3      +1   -0.882353   -0.105528   0.0819672  -0.535354  -0.777778   \n",
      "4      -1          -1    0.376884   -0.344262  -0.292929  -0.602837   \n",
      "..    ...         ...         ...         ...        ...        ...   \n",
      "763    +1    0.176471   0.0150754    0.245902  -0.030303  -0.574468   \n",
      "764    +1   -0.764706    0.226131    0.147541  -0.454545         -1   \n",
      "765    +1   -0.411765     0.21608    0.180328  -0.535354  -0.735225   \n",
      "766    -1   -0.882353    0.266332  -0.0163934         -1         -1   \n",
      "767    +1   -0.882353  -0.0653266    0.147541  -0.373737         -1   \n",
      "\n",
      "              6          7           8  \n",
      "0    0.00149028   -0.53117  -0.0333333  \n",
      "1     -0.207153  -0.766866   -0.666667  \n",
      "2     -0.305514  -0.492741   -0.633333  \n",
      "3     -0.162444  -0.923997          -1  \n",
      "4       0.28465   0.887276        -0.6  \n",
      "..          ...        ...         ...  \n",
      "763   -0.019374  -0.920581         0.4  \n",
      "764   0.0968703   -0.77626        -0.8  \n",
      "765   -0.219076  -0.857387        -0.7  \n",
      "766   -0.102832  -0.768574   -0.133333  \n",
      "767  -0.0938897  -0.797609   -0.933333  \n",
      "\n",
      "[768 rows x 9 columns]\n"
     ]
    }
   ],
   "source": [
    "df = pd.DataFrame(l).fillna(0)\n",
    "print(df)"
   ]
  },
  {
   "cell_type": "code",
   "execution_count": 6,
   "metadata": {},
   "outputs": [
    {
     "name": "stdout",
     "output_type": "stream",
     "text": [
      "Shapes are [(491, 8), (491,), (154, 8), (154,), (123, 8), (123,)]\n"
     ]
    }
   ],
   "source": [
    "from sklearn.model_selection import train_test_split\n",
    "train_set, test_set = train_test_split(df, test_size=0.2, random_state=42, stratify=df['label'])\n",
    "train_set, val_set = train_test_split(train_set, test_size=0.2, random_state=42, stratify=train_set['label'])\n",
    "X_train = train_set.iloc[:,1:]\n",
    "y_train = train_set.iloc[:,0]\n",
    "X_test = test_set.iloc[:,1:]\n",
    "y_test = test_set.iloc[:,0]\n",
    "X_val = val_set.iloc[:,1:]\n",
    "y_val = val_set.iloc[:,0]\n",
    "print(f'Shapes are {[X_train.shape,y_train.shape,X_test.shape,y_test.shape,X_val.shape,y_val.shape]}')"
   ]
  },
  {
   "cell_type": "code",
   "execution_count": 10,
   "metadata": {},
   "outputs": [],
   "source": [
    "X_train.reset_index(drop =True, inplace =True)\n",
    "y_train.reset_index(drop =True, inplace =True)\n",
    "X_test.reset_index(drop =True, inplace =True)\n",
    "y_test.reset_index(drop =True, inplace =True)\n",
    "X_val.reset_index(drop =True, inplace =True)\n",
    "y_val.reset_index(drop =True, inplace =True)"
   ]
  },
  {
   "cell_type": "code",
   "execution_count": 126,
   "metadata": {},
   "outputs": [
    {
     "name": "stdout",
     "output_type": "stream",
     "text": [
      "[-0.08664713 -0.26967345  0.05391802 -0.04354555  0.01371376 -0.23433832\n",
      " -0.10276689 -0.05686669]\n"
     ]
    }
   ],
   "source": [
    "lr=0.001\n",
    "epoch=50\n",
    "w=np.zeros(8)\n",
    "for i in range(epoch):\n",
    "    sum_arr=np.zeros(8)\n",
    "    for j in range(len(X_train)):\n",
    "        x=[X_train['1'][j],X_train['2'][j],X_train['3'][j],X_train['4'][j],X_train['5'][j],X_train['6'][j],X_train['7'][j],X_train['8'][j]]\n",
    "        x=np.asarray(x, dtype=np.float32)\n",
    "        y=y_train[j]\n",
    "        param=0\n",
    "        if np.dot(w,x)<0 and y=='+1':\n",
    "            param=1\n",
    "        elif np.dot(w,x)>=0 and y=='-1':\n",
    "            param=1\n",
    "        mult_arr=x*int(y)*param\n",
    "        sum_arr=sum_arr+mult_arr\n",
    "    w=w+lr*sum_arr\n",
    "print(w)"
   ]
  },
  {
   "cell_type": "code",
   "execution_count": 98,
   "metadata": {},
   "outputs": [],
   "source": [
    "train_acc=[]"
   ]
  },
  {
   "cell_type": "code",
   "execution_count": 115,
   "metadata": {},
   "outputs": [],
   "source": [
    "train_predict=[]\n",
    "for i in range(len(X_train)):\n",
    "    x=[X_train['1'][i],X_train['2'][i],X_train['3'][i],X_train['4'][i],X_train['5'][i],X_train['6'][i],X_train['7'][i],X_train['8'][i]]\n",
    "    x=np.asarray(x, dtype=np.float32)\n",
    "    if np.dot(w,x)<0:\n",
    "        train_predict.append('-1')\n",
    "    else:\n",
    "        train_predict.append('+1')\n",
    "train_predict=pd.Series(train_predict)\n",
    "correct=0\n",
    "for i in range(len(train_predict)):\n",
    "    if train_predict[i]==y_train[i]:\n",
    "        correct=correct+1\n",
    "accuracy=correct/len(train_predict)\n",
    "train_acc.append(accuracy)"
   ]
  },
  {
   "cell_type": "code",
   "execution_count": 116,
   "metadata": {},
   "outputs": [
    {
     "name": "stdout",
     "output_type": "stream",
     "text": [
      "[0.7637474541751528, 0.7637474541751528, 0.7637474541751528, 0.7637474541751528]\n"
     ]
    }
   ],
   "source": [
    "print(train_acc)"
   ]
  },
  {
   "cell_type": "code",
   "execution_count": 101,
   "metadata": {},
   "outputs": [],
   "source": [
    "val_acc=[]"
   ]
  },
  {
   "cell_type": "code",
   "execution_count": 117,
   "metadata": {},
   "outputs": [],
   "source": [
    "val_predict=[]\n",
    "for i in range(len(X_val)):\n",
    "    x=[X_val['1'][i],X_val['2'][i],X_val['3'][i],X_val['4'][i],X_val['5'][i],X_val['6'][i],X_val['7'][i],X_val['8'][i]]\n",
    "    x=np.asarray(x, dtype=np.float32)\n",
    "    if np.dot(w,x)<0:\n",
    "        val_predict.append('-1')\n",
    "    else:\n",
    "        val_predict.append('+1')\n",
    "val_predict=pd.Series(val_predict)\n",
    "correct=0\n",
    "for i in range(len(val_predict)):\n",
    "    if val_predict[i]==y_val[i]:\n",
    "        correct=correct+1\n",
    "accuracy=correct/len(val_predict)\n",
    "val_acc.append(accuracy)"
   ]
  },
  {
   "cell_type": "code",
   "execution_count": 118,
   "metadata": {},
   "outputs": [
    {
     "name": "stdout",
     "output_type": "stream",
     "text": [
      "[0.7804878048780488, 0.7804878048780488, 0.7804878048780488, 0.7804878048780488]\n"
     ]
    }
   ],
   "source": [
    "print(val_acc)"
   ]
  },
  {
   "cell_type": "code",
   "execution_count": 96,
   "metadata": {},
   "outputs": [
    {
     "data": {
      "image/png": "[encoded data removed]",
      "text/plain": [
       "<Figure size 432x288 with 1 Axes>"
      ]
     },
     "metadata": {
      "needs_background": "light"
     },
     "output_type": "display_data"
    }
   ],
   "source": [
    "import matplotlib.pyplot as plt\n",
    "   \n",
    "epoch=[10,20,30,40,50,60,70,80]\n",
    "  \n",
    "plt.plot(epoch, train_acc,label='train')\n",
    "plt.plot(epoch, val_acc,label='validation')\n",
    "plt.title('Accuracy of different epoch')\n",
    "plt.xlabel('epoch')\n",
    "plt.ylabel('Accuracy')\n",
    "plt.legend()\n",
    "plt.show()"
   ]
  },
  {
   "cell_type": "code",
   "execution_count": 120,
   "metadata": {},
   "outputs": [
    {
     "data": {
      "image/png": "[encoded data removed]",
      "text/plain": [
       "<Figure size 432x288 with 1 Axes>"
      ]
     },
     "metadata": {
      "needs_background": "light"
     },
     "output_type": "display_data"
    }
   ],
   "source": [
    "import matplotlib.pyplot as plt\n",
    "   \n",
    "learning_rate=[0.1,0.01,0.001,0.0001]\n",
    "  \n",
    "plt.plot(learning_rate, train_acc,label='train')\n",
    "plt.plot(learning_rate, val_acc,label='validation')\n",
    "plt.title('Accuracy of different learning rate')\n",
    "plt.xlabel('learning_rate')\n",
    "plt.ylabel('Accuracy')\n",
    "plt.legend()\n",
    "plt.show()"
   ]
  },
  {
   "cell_type": "code",
   "execution_count": 127,
   "metadata": {},
   "outputs": [],
   "source": [
    "y_predict=[]\n",
    "for i in range(len(X_test)):\n",
    "    x=[X_test['1'][i],X_test['2'][i],X_test['3'][i],X_test['4'][i],X_test['5'][i],X_test['6'][i],X_test['7'][i],X_test['8'][i]]\n",
    "    x=np.asarray(x, dtype=np.float32)\n",
    "    if np.dot(w,x)<0:\n",
    "        y_predict.append('-1')\n",
    "    else:\n",
    "        y_predict.append('+1')\n",
    "y_predict=pd.Series(y_predict)"
   ]
  },
  {
   "cell_type": "code",
   "execution_count": 128,
   "metadata": {},
   "outputs": [
    {
     "name": "stdout",
     "output_type": "stream",
     "text": [
      "0.7272727272727273\n"
     ]
    }
   ],
   "source": [
    "correct=0\n",
    "for i in range(len(y_predict)):\n",
    "    if y_predict[i]==y_test[i]:\n",
    "        correct=correct+1\n",
    "accuracy=correct/len(y_predict)\n",
    "print(accuracy)"
   ]
  },
  {
   "cell_type": "code",
   "execution_count": 132,
   "metadata": {},
   "outputs": [
    {
     "data": {
      "image/png": "[encoded data removed]",
      "text/plain": [
       "<Figure size 432x288 with 2 Axes>"
      ]
     },
     "metadata": {
      "needs_background": "light"
     },
     "output_type": "display_data"
    }
   ],
   "source": [
    "cmat=confusion_matrix(y_test,y_predict)\n",
    "sns.heatmap(cmat,annot=True)\n",
    "plt.xlabel('Predicted')\n",
    "plt.ylabel('True')\n",
    "plt.show()"
   ]
  },
  {
   "cell_type": "code",
   "execution_count": 134,
   "metadata": {},
   "outputs": [
    {
     "name": "stdout",
     "output_type": "stream",
     "text": [
      "0.9\n"
     ]
    }
   ],
   "source": [
    "precision = 90/(90+10)\n",
    "print(precision)"
   ]
  },
  {
   "cell_type": "code",
   "execution_count": 135,
   "metadata": {},
   "outputs": [
    {
     "name": "stdout",
     "output_type": "stream",
     "text": [
      "0.7377049180327869\n"
     ]
    }
   ],
   "source": [
    "recall=90/(90+32)\n",
    "print(recall)"
   ]
  },
  {
   "cell_type": "code",
   "execution_count": 136,
   "metadata": {},
   "outputs": [
    {
     "name": "stdout",
     "output_type": "stream",
     "text": [
      "0.8108108108108109\n"
     ]
    }
   ],
   "source": [
    "F1_score=(2*precision*recall)/(precision+recall)\n",
    "print(F1_score)"
   ]
  }
 ],
 "metadata": {
  "kernelspec": {
   "display_name": "Python 3 (ipykernel)",
   "language": "python",
   "name": "python3"
  },
  "language_info": {
   "codemirror_mode": {
    "name": "ipython",
    "version": 3
   },
   "file_extension": ".py",
   "mimetype": "text/x-python",
   "name": "python",
   "nbconvert_exporter": "python",
   "pygments_lexer": "ipython3",
   "version": "3.9.12"
  }
 },
 "nbformat": 4,
 "nbformat_minor": 4
}
